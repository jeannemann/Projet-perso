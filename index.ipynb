{
  "cells": [
    {
      "cell_type": "raw",
      "metadata": {},
      "source": [
        "---\n",
        "title: Météo Jeanne\n",
        "---"
      ],
      "id": "5e878721"
    },
    {
      "cell_type": "markdown",
      "metadata": {},
      "source": [
        "import openmeteo_requests\n",
        "\n",
        "import requests_cache\n",
        "import pandas as pd\n",
        "from retry_requests import retry\n",
        "\n",
        "# Setup the Open-Meteo API client with cache and retry on error\n",
        "cache_session = requests_cache.CachedSession('.cache', expire_after = 3600)\n",
        "retry_session = retry(cache_session, retries = 5, backoff_factor = 0.2)\n",
        "openmeteo = openmeteo_requests.Client(session = retry_session)\n",
        "\n",
        "# Make sure all required weather variables are listed here\n",
        "# The order of variables in hourly or daily is important to assign them correctly below\n",
        "url = \"https://api.open-meteo.com/v1/meteofrance\"\n",
        "params = {\n",
        "\t\"latitude\": 43.6109,\n",
        "\t\"longitude\": 3.8763,\n",
        "\t\"daily\": [\"temperature_2m_max\", \"temperature_2m_min\", \"sunrise\", \"sunset\", \"uv_index_max\", \"precipitation_sum\", \"rain_sum\", \"snowfall_sum\", \"wind_speed_10m_max\"],\n",
        "\t\"timezone\": \"Europe/Berlin\"\n",
        "}\n",
        "responses = openmeteo.weather_api(url, params=params)\n",
        "\n",
        "# Process first location. Add a for-loop for multiple locations or weather models\n",
        "response = responses[0]\n",
        "print(f\"Coordinates {response.Latitude()}°E {response.Longitude()}°N\")\n",
        "print(f\"Elevation {response.Elevation()} m asl\")\n",
        "print(f\"Timezone {response.Timezone()} {response.TimezoneAbbreviation()}\")\n",
        "print(f\"Timezone difference to GMT+0 {response.UtcOffsetSeconds()} s\")\n",
        "\n",
        "# Process daily data. The order of variables needs to be the same as requested.\n",
        "daily = response.Daily()\n",
        "daily_temperature_2m_max = daily.Variables(0).ValuesAsNumpy()\n",
        "daily_temperature_2m_min = daily.Variables(1).ValuesAsNumpy()\n",
        "daily_sunrise = daily.Variables(2).ValuesAsNumpy()\n",
        "daily_sunset = daily.Variables(3).ValuesAsNumpy()\n",
        "daily_uv_index_max = daily.Variables(4).ValuesAsNumpy()\n",
        "daily_precipitation_sum = daily.Variables(5).ValuesAsNumpy()\n",
        "daily_rain_sum = daily.Variables(6).ValuesAsNumpy()\n",
        "daily_snowfall_sum = daily.Variables(7).ValuesAsNumpy()\n",
        "daily_wind_speed_10m_max = daily.Variables(8).ValuesAsNumpy()\n",
        "\n",
        "daily_data = {\"date\": pd.date_range(\n",
        "\tstart = pd.to_datetime(daily.Time(), unit = \"s\"),\n",
        "\tend = pd.to_datetime(daily.TimeEnd(), unit = \"s\"),\n",
        "\tfreq = pd.Timedelta(seconds = daily.Interval()),\n",
        "\tinclusive = \"left\"\n",
        ")}\n",
        "daily_data[\"temperature_2m_max\"] = daily_temperature_2m_max\n",
        "daily_data[\"temperature_2m_min\"] = daily_temperature_2m_min\n",
        "daily_data[\"sunrise\"] = daily_sunrise\n",
        "daily_data[\"sunset\"] = daily_sunset\n",
        "daily_data[\"uv_index_max\"] = daily_uv_index_max\n",
        "daily_data[\"precipitation_sum\"] = daily_precipitation_sum\n",
        "daily_data[\"rain_sum\"] = daily_rain_sum\n",
        "daily_data[\"snowfall_sum\"] = daily_snowfall_sum\n",
        "daily_data[\"wind_speed_10m_max\"] = daily_wind_speed_10m_max\n",
        "\n",
        "daily_dataframe = pd.DataFrame(data = daily_data)\n",
        "print(daily_dataframe)"
      ],
      "id": "f78a0bf2"
    }
  ],
  "metadata": {
    "kernelspec": {
      "display_name": "Python 3",
      "language": "python",
      "name": "python3"
    }
  },
  "nbformat": 4,
  "nbformat_minor": 5
}